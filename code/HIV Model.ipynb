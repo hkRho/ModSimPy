{
 "cells": [
  {
   "cell_type": "markdown",
   "metadata": {},
   "source": [
    "# HIV Model\n",
    "\n",
    "HK Rho"
   ]
  },
  {
   "cell_type": "code",
   "execution_count": 1,
   "metadata": {},
   "outputs": [],
   "source": [
    "# Configure Jupyter so figures appear in the notebook\n",
    "%matplotlib inline\n",
    "\n",
    "# Configure Jupyter to display the assigned value after an assignment\n",
    "%config InteractiveShell.ast_node_interactivity='last_expr_or_assign'\n",
    "\n",
    "# import functions from the modsim.py module\n",
    "from modsim import *"
   ]
  },
  {
   "cell_type": "code",
   "execution_count": 2,
   "metadata": {},
   "outputs": [
    {
     "data": {
      "text/html": [
       "<div>\n",
       "<style scoped>\n",
       "    .dataframe tbody tr th:only-of-type {\n",
       "        vertical-align: middle;\n",
       "    }\n",
       "\n",
       "    .dataframe tbody tr th {\n",
       "        vertical-align: top;\n",
       "    }\n",
       "\n",
       "    .dataframe thead th {\n",
       "        text-align: right;\n",
       "    }\n",
       "</style>\n",
       "<table border=\"1\" class=\"dataframe\">\n",
       "  <thead>\n",
       "    <tr style=\"text-align: right;\">\n",
       "      <th></th>\n",
       "      <th>values</th>\n",
       "    </tr>\n",
       "  </thead>\n",
       "  <tbody>\n",
       "    <tr>\n",
       "      <th>gamma</th>\n",
       "      <td>1.36000</td>\n",
       "    </tr>\n",
       "    <tr>\n",
       "      <th>beta</th>\n",
       "      <td>0.00027</td>\n",
       "    </tr>\n",
       "    <tr>\n",
       "      <th>rho</th>\n",
       "      <td>0.10000</td>\n",
       "    </tr>\n",
       "    <tr>\n",
       "      <th>mu</th>\n",
       "      <td>0.00136</td>\n",
       "    </tr>\n",
       "    <tr>\n",
       "      <th>alpha</th>\n",
       "      <td>0.03600</td>\n",
       "    </tr>\n",
       "    <tr>\n",
       "      <th>delta</th>\n",
       "      <td>0.33000</td>\n",
       "    </tr>\n",
       "    <tr>\n",
       "      <th>sigma</th>\n",
       "      <td>2.00000</td>\n",
       "    </tr>\n",
       "    <tr>\n",
       "      <th>pi</th>\n",
       "      <td>100.00000</td>\n",
       "    </tr>\n",
       "    <tr>\n",
       "      <th>tau</th>\n",
       "      <td>0.20000</td>\n",
       "    </tr>\n",
       "    <tr>\n",
       "      <th>q</th>\n",
       "      <td>0.90000</td>\n",
       "    </tr>\n",
       "    <tr>\n",
       "      <th>dt</th>\n",
       "      <td>0.10000</td>\n",
       "    </tr>\n",
       "  </tbody>\n",
       "</table>\n",
       "</div>"
      ],
      "text/plain": [
       "gamma      1.36000\n",
       "beta       0.00027\n",
       "rho        0.10000\n",
       "mu         0.00136\n",
       "alpha      0.03600\n",
       "delta      0.33000\n",
       "sigma      2.00000\n",
       "pi       100.00000\n",
       "tau        0.20000\n",
       "q          0.90000\n",
       "dt         0.10000\n",
       "dtype: float64"
      ]
     },
     "execution_count": 2,
     "metadata": {},
     "output_type": "execute_result"
    }
   ],
   "source": [
    "#define the state\n",
    "init = State(R = 1000,\n",
    "             L = 0,\n",
    "             E = 0,\n",
    "             V = 100)\n",
    "\n",
    "#define the system\n",
    "#included dt to modify time step so that the graph does not malfunction\n",
    "conditions = System(gamma = 1.36, \n",
    "                    beta = 0.00027, \n",
    "                    rho = 0.1, \n",
    "                    mu = 0.00136, \n",
    "                    alpha = 0.036, \n",
    "                    delta = 0.33, \n",
    "                    sigma = 2, \n",
    "                    pi = 100, \n",
    "                    tau = 0.2,\n",
    "                    q = (1 - 0.1),\n",
    "                    dt = 0.1)    #the time step is 0.1 which was selected after testing different time steps that best showed the graphs"
   ]
  },
  {
   "cell_type": "code",
   "execution_count": 37,
   "metadata": {},
   "outputs": [],
   "source": [
    "#update function accepts initial state and system as parameters\n",
    "def update_func(init, conditions):\n",
    "    #it seems like I can only use unpack once and if it is used twice, the one written before is overriden?\n",
    "    unpack(conditions)\n",
    "    \n",
    "    new_state = init\n",
    "    \n",
    "    #the changes in R,L,E,V\n",
    "    drdt = gamma * tau - mu * init.R - beta * init.R * init.V\n",
    "    dldt = rho * beta * init.R * init.V - mu * init.L - alpha * init.L\n",
    "    dedt = (1-rho) * beta * init.R * init.V + alpha * init.L - delta * init.E\n",
    "    dvdt = pi * init.E - sigma * init.V\n",
    "    \n",
    "    #applying the changes\n",
    "    #dt is multiplied to use Euler's method\n",
    "    new_state.R += drdt * dt\n",
    "    new_state.L += dldt * dt\n",
    "    new_state.E += dedt * dt\n",
    "    new_state.V += dvdt * dt\n",
    "    \n",
    "    return new_state"
   ]
  },
  {
   "cell_type": "code",
   "execution_count": 38,
   "metadata": {},
   "outputs": [],
   "source": [
    "def run_simulation(conditions, update_func):\n",
    "    \n",
    "    frame = TimeFrame(columns = init.index)\n",
    "    frame.row[0] = init\n",
    "    \n",
    "    for t in linrange(0,200):\n",
    "        frame.row[t+1] = update_func(frame.row[t], conditions)\n",
    "    \n",
    "    return frame"
   ]
  },
  {
   "cell_type": "code",
   "execution_count": 41,
   "metadata": {},
   "outputs": [
    {
     "data": {
      "text/plain": [
       "[<matplotlib.lines.Line2D at 0x20c8bff3be0>]"
      ]
     },
     "execution_count": 41,
     "metadata": {},
     "output_type": "execute_result"
    },
    {
     "data": {
      "image/png": "[encoded data removed]",
      "text/plain": [
       "<Figure size 432x288 with 1 Axes>"
      ]
     },
     "metadata": {},
     "output_type": "display_data"
    }
   ],
   "source": [
    "results = run_simulation(conditions, update_func)\n",
    "plot(results.R)\n",
    "plot(results.E)\n",
    "plot(results.L)"
   ]
  },
  {
   "cell_type": "code",
   "execution_count": 42,
   "metadata": {},
   "outputs": [
    {
     "data": {
      "text/plain": [
       "[<matplotlib.lines.Line2D at 0x20c8c03fac8>]"
      ]
     },
     "execution_count": 42,
     "metadata": {},
     "output_type": "execute_result"
    },
    {
     "data": {
      "image/png": "[encoded data removed]",
      "text/plain": [
       "<Figure size 432x288 with 1 Axes>"
      ]
     },
     "metadata": {},
     "output_type": "display_data"
    }
   ],
   "source": [
    "#the graph for V was plotted in a separate graph because it was killing the graphs for R,E,L\n",
    "plot(results.V)"
   ]
  },
  {
   "cell_type": "code",
   "execution_count": null,
   "metadata": {},
   "outputs": [],
   "source": []
  }
 ],
 "metadata": {
  "kernelspec": {
   "display_name": "Python 3",
   "language": "python",
   "name": "python3"
  },
  "language_info": {
   "codemirror_mode": {
    "name": "ipython",
    "version": 3
   },
   "file_extension": ".py",
   "mimetype": "text/x-python",
   "name": "python",
   "nbconvert_exporter": "python",
   "pygments_lexer": "ipython3",
   "version": "3.6.6"
  }
 },
 "nbformat": 4,
 "nbformat_minor": 2
}
